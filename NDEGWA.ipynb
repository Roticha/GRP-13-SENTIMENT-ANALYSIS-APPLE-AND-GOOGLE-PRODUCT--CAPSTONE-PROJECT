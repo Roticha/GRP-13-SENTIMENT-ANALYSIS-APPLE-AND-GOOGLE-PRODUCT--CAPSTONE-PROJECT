{
 "cells": [
  {
   "cell_type": "markdown",
   "metadata": {},
   "source": [
    "## Data Understanding\n",
    "\n",
    "1. Import Libraries"
   ]
  },
  {
   "cell_type": "code",
   "execution_count": 263,
   "metadata": {},
   "outputs": [
    {
     "name": "stderr",
     "output_type": "stream",
     "text": [
      "[nltk_data] Downloading package punkt_tab to\n",
      "[nltk_data]     /Users/ndegwa/nltk_data...\n",
      "[nltk_data]   Package punkt_tab is already up-to-date!\n",
      "[nltk_data] Downloading package punkt to /Users/ndegwa/nltk_data...\n",
      "[nltk_data]   Package punkt is already up-to-date!\n",
      "[nltk_data] Downloading package stopwords to\n",
      "[nltk_data]     /Users/ndegwa/nltk_data...\n",
      "[nltk_data]   Package stopwords is already up-to-date!\n",
      "[nltk_data] Downloading package averaged_perceptron_tagger to\n",
      "[nltk_data]     /Users/ndegwa/nltk_data...\n",
      "[nltk_data]   Package averaged_perceptron_tagger is already up-to-\n",
      "[nltk_data]       date!\n",
      "[nltk_data] Downloading package averaged_perceptron_tagger_eng to\n",
      "[nltk_data]     /Users/ndegwa/nltk_data...\n",
      "[nltk_data]   Package averaged_perceptron_tagger_eng is already up-to-\n",
      "[nltk_data]       date!\n"
     ]
    },
    {
     "data": {
      "text/plain": [
       "True"
      ]
     },
     "execution_count": 263,
     "metadata": {},
     "output_type": "execute_result"
    }
   ],
   "source": [
    "import pandas as pd\n",
    "import nltk\n",
    "import string\n",
    "import re\n",
    "import numpy as np\n",
    "import matplotlib.pyplot as plt\n",
    "import seaborn as sns\n",
    "from nltk.corpus import stopwords\n",
    "from nltk.stem import WordNetLemmatizer\n",
    "from sklearn.feature_extraction.text import TfidfVectorizer, CountVectorizer\n",
    "from wordcloud import WordCloud\n",
    "from sklearn.model_selection import train_test_split\n",
    "from sklearn.linear_model import LogisticRegression\n",
    "from sklearn.ensemble import RandomForestClassifier\n",
    "from sklearn.svm import SVC\n",
    "from sklearn.metrics import classification_report\n",
    "from imblearn.pipeline import Pipeline as ImbPipeline\n",
    "from imblearn.over_sampling import SMOTE\n",
    "from sklearn.model_selection import GridSearchCV\n",
    "\n",
    "nltk.download('punkt_tab')\n",
    "nltk.download('punkt')\n",
    "nltk.download('stopwords')\n",
    "nltk.download('averaged_perceptron_tagger')\n",
    "nltk.download('averaged_perceptron_tagger_eng')\n",
    "\n",
    "#pd.set_option('display.max_colwidth', None)\n",
    "# use to view full tweet context"
   ]
  },
  {
   "cell_type": "code",
   "execution_count": 264,
   "metadata": {},
   "outputs": [
    {
     "data": {
      "text/html": [
       "<div>\n",
       "<style scoped>\n",
       "    .dataframe tbody tr th:only-of-type {\n",
       "        vertical-align: middle;\n",
       "    }\n",
       "\n",
       "    .dataframe tbody tr th {\n",
       "        vertical-align: top;\n",
       "    }\n",
       "\n",
       "    .dataframe thead th {\n",
       "        text-align: right;\n",
       "    }\n",
       "</style>\n",
       "<table border=\"1\" class=\"dataframe\">\n",
       "  <thead>\n",
       "    <tr style=\"text-align: right;\">\n",
       "      <th></th>\n",
       "      <th>tweet_text</th>\n",
       "      <th>emotion_in_tweet_is_directed_at</th>\n",
       "      <th>is_there_an_emotion_directed_at_a_brand_or_product</th>\n",
       "    </tr>\n",
       "  </thead>\n",
       "  <tbody>\n",
       "    <tr>\n",
       "      <th>0</th>\n",
       "      <td>.@wesley83 I have a 3G iPhone. After 3 hrs twe...</td>\n",
       "      <td>iPhone</td>\n",
       "      <td>Negative emotion</td>\n",
       "    </tr>\n",
       "    <tr>\n",
       "      <th>1</th>\n",
       "      <td>@jessedee Know about @fludapp ? Awesome iPad/i...</td>\n",
       "      <td>iPad or iPhone App</td>\n",
       "      <td>Positive emotion</td>\n",
       "    </tr>\n",
       "    <tr>\n",
       "      <th>2</th>\n",
       "      <td>@swonderlin Can not wait for #iPad 2 also. The...</td>\n",
       "      <td>iPad</td>\n",
       "      <td>Positive emotion</td>\n",
       "    </tr>\n",
       "    <tr>\n",
       "      <th>3</th>\n",
       "      <td>@sxsw I hope this year's festival isn't as cra...</td>\n",
       "      <td>iPad or iPhone App</td>\n",
       "      <td>Negative emotion</td>\n",
       "    </tr>\n",
       "    <tr>\n",
       "      <th>4</th>\n",
       "      <td>@sxtxstate great stuff on Fri #SXSW: Marissa M...</td>\n",
       "      <td>Google</td>\n",
       "      <td>Positive emotion</td>\n",
       "    </tr>\n",
       "  </tbody>\n",
       "</table>\n",
       "</div>"
      ],
      "text/plain": [
       "                                          tweet_text  \\\n",
       "0  .@wesley83 I have a 3G iPhone. After 3 hrs twe...   \n",
       "1  @jessedee Know about @fludapp ? Awesome iPad/i...   \n",
       "2  @swonderlin Can not wait for #iPad 2 also. The...   \n",
       "3  @sxsw I hope this year's festival isn't as cra...   \n",
       "4  @sxtxstate great stuff on Fri #SXSW: Marissa M...   \n",
       "\n",
       "  emotion_in_tweet_is_directed_at  \\\n",
       "0                          iPhone   \n",
       "1              iPad or iPhone App   \n",
       "2                            iPad   \n",
       "3              iPad or iPhone App   \n",
       "4                          Google   \n",
       "\n",
       "  is_there_an_emotion_directed_at_a_brand_or_product  \n",
       "0                                   Negative emotion  \n",
       "1                                   Positive emotion  \n",
       "2                                   Positive emotion  \n",
       "3                                   Negative emotion  \n",
       "4                                   Positive emotion  "
      ]
     },
     "execution_count": 264,
     "metadata": {},
     "output_type": "execute_result"
    }
   ],
   "source": [
    "tweets = pd.read_csv('judge_tweet_product_company.csv',encoding='ISO-8859-1')\n",
    "tweets.head()"
   ]
  },
  {
   "cell_type": "code",
   "execution_count": 265,
   "metadata": {},
   "outputs": [
    {
     "name": "stdout",
     "output_type": "stream",
     "text": [
      "<class 'pandas.core.frame.DataFrame'>\n",
      "RangeIndex: 9093 entries, 0 to 9092\n",
      "Data columns (total 3 columns):\n",
      " #   Column                                              Non-Null Count  Dtype \n",
      "---  ------                                              --------------  ----- \n",
      " 0   tweet_text                                          9092 non-null   object\n",
      " 1   emotion_in_tweet_is_directed_at                     3291 non-null   object\n",
      " 2   is_there_an_emotion_directed_at_a_brand_or_product  9093 non-null   object\n",
      "dtypes: object(3)\n",
      "memory usage: 213.2+ KB\n"
     ]
    }
   ],
   "source": [
    "tweets.info()"
   ]
  },
  {
   "cell_type": "code",
   "execution_count": 266,
   "metadata": {},
   "outputs": [
    {
     "data": {
      "text/plain": [
       "(9093, 3)"
      ]
     },
     "execution_count": 266,
     "metadata": {},
     "output_type": "execute_result"
    }
   ],
   "source": [
    "tweets.shape"
   ]
  },
  {
   "cell_type": "code",
   "execution_count": 267,
   "metadata": {},
   "outputs": [
    {
     "data": {
      "text/plain": [
       "tweet_text                                               1\n",
       "emotion_in_tweet_is_directed_at                       5802\n",
       "is_there_an_emotion_directed_at_a_brand_or_product       0\n",
       "dtype: int64"
      ]
     },
     "execution_count": 267,
     "metadata": {},
     "output_type": "execute_result"
    }
   ],
   "source": [
    "tweets.isnull().sum()"
   ]
  },
  {
   "cell_type": "code",
   "execution_count": 268,
   "metadata": {},
   "outputs": [
    {
     "data": {
      "text/plain": [
       "22"
      ]
     },
     "execution_count": 268,
     "metadata": {},
     "output_type": "execute_result"
    }
   ],
   "source": [
    "tweets.duplicated().sum()"
   ]
  },
  {
   "cell_type": "markdown",
   "metadata": {},
   "source": [
    "## Data Cleaning"
   ]
  },
  {
   "cell_type": "code",
   "execution_count": 269,
   "metadata": {},
   "outputs": [],
   "source": [
    "# Rename the columns\n",
    "tweets.rename(columns={\n",
    "    'tweet_text': 'text',\n",
    "    'emotion_in_tweet_is_directed_at': 'product',\n",
    "    'is_there_an_emotion_directed_at_a_brand_or_product': 'emotion'\n",
    "}, inplace=True)"
   ]
  },
  {
   "cell_type": "markdown",
   "metadata": {},
   "source": [
    "### Emotion column cleaning"
   ]
  },
  {
   "cell_type": "code",
   "execution_count": 270,
   "metadata": {},
   "outputs": [
    {
     "name": "stdout",
     "output_type": "stream",
     "text": [
      "Emotions: ['Negative emotion' 'Positive emotion'\n",
      " 'No emotion toward brand or product' \"I can't tell\"]\n"
     ]
    }
   ],
   "source": [
    "# Check unique values\n",
    "emotions = tweets['emotion'].unique()\n",
    "print(\"Emotions:\", emotions)"
   ]
  },
  {
   "cell_type": "code",
   "execution_count": 271,
   "metadata": {},
   "outputs": [
    {
     "name": "stdout",
     "output_type": "stream",
     "text": [
      "No emotion toward brand or product    5389\n",
      "Positive emotion                      2978\n",
      "Negative emotion                       570\n",
      "I can't tell                           156\n",
      "Name: emotion, dtype: int64\n"
     ]
    }
   ],
   "source": [
    "# Print value counts for the 'emotion' column\n",
    "print(tweets['emotion'].value_counts())"
   ]
  },
  {
   "cell_type": "markdown",
   "metadata": {},
   "source": [
    "To clean the emotion column for easier handling, we can simplify these categories to make analysis more straightforward. \n",
    "\n",
    "Drop I can't tell rows\n",
    "\n",
    "Combine Ambiguous Emotions: Group the categories for ambiguous or neutral responses, such as \"No emotion toward brand or product\" and \"I can't tell,\" into a single category, \"Neutral\".\n",
    "\n",
    "Label Encoding: Assign numerical values to each category for better compatibility with machine learning models (e.g., -1 for \"Negative,\" 0 for \"Neutral,\" and 1 for \"Positive\").\n",
    "\n",
    "Map to Simple Labels: Shorten each category name for easier interpretation, like:\n",
    "\n",
    "\"Positive\" for \"Positive emotion\"\n",
    "\"Negative\" for \"Negative emotion\"\n",
    "\"Neutral\" for \"No emotion toward brand or product\"\n"
   ]
  },
  {
   "cell_type": "code",
   "execution_count": 272,
   "metadata": {},
   "outputs": [
    {
     "name": "stdout",
     "output_type": "stream",
     "text": [
      "Neutral     5389\n",
      "Positive    2978\n",
      "Negative     570\n",
      "Name: emotion, dtype: int64\n"
     ]
    }
   ],
   "source": [
    "# Find rows with 'I cant tell'\n",
    "uncertain_rows = tweets[tweets['emotion'] == \"I can't tell\"].index\n",
    "\n",
    "# Remove the identified records\n",
    "tweets.drop(index=uncertain_rows, inplace=True)\n",
    "\n",
    "# Define a mapping dictionary to simplify the emotion categories\n",
    "emotion_mapping = {\n",
    "    'Positive emotion': 'Positive',\n",
    "    'Negative emotion': 'Negative',\n",
    "    'No emotion toward brand or product': 'Neutral',\n",
    "}\n",
    "\n",
    "# Apply the mapping to the emotion column\n",
    "tweets['emotion'] = tweets['emotion'].map(emotion_mapping)\n",
    "\n",
    "# Check the value counts to confirm changes\n",
    "print(tweets['emotion'].value_counts())\n"
   ]
  },
  {
   "cell_type": "code",
   "execution_count": 273,
   "metadata": {},
   "outputs": [
    {
     "data": {
      "text/plain": [
       "8937"
      ]
     },
     "execution_count": 273,
     "metadata": {},
     "output_type": "execute_result"
    }
   ],
   "source": [
    "tweets['emotion'].value_counts().sum()"
   ]
  },
  {
   "cell_type": "markdown",
   "metadata": {},
   "source": [
    "### Product Column cleaning"
   ]
  },
  {
   "cell_type": "code",
   "execution_count": 274,
   "metadata": {},
   "outputs": [
    {
     "data": {
      "text/plain": [
       "5655"
      ]
     },
     "execution_count": 274,
     "metadata": {},
     "output_type": "execute_result"
    }
   ],
   "source": [
    "# Find the records with missing values in the column\n",
    "tweets[tweets['product'].isnull() == True].shape[0]"
   ]
  },
  {
   "cell_type": "code",
   "execution_count": 275,
   "metadata": {},
   "outputs": [
    {
     "name": "stdout",
     "output_type": "stream",
     "text": [
      "iPad                               942\n",
      "Apple                              659\n",
      "iPad or iPhone App                 470\n",
      "Google                             429\n",
      "iPhone                             296\n",
      "Other Google product or service    292\n",
      "Android App                         81\n",
      "Android                             78\n",
      "Other Apple product or service      35\n",
      "Name: product, dtype: int64\n"
     ]
    }
   ],
   "source": [
    "print(tweets['product'].value_counts())"
   ]
  },
  {
   "cell_type": "markdown",
   "metadata": {},
   "source": [
    "So we will try check the text column with reference to the unique vaues in the product column, and fill the product column missing values with the product names described from the unique list. \n",
    "we want to have a larger dataset for more significant sentiment analysis"
   ]
  },
  {
   "cell_type": "code",
   "execution_count": 276,
   "metadata": {},
   "outputs": [],
   "source": [
    "# List of unique products/services,\n",
    "products = list(tweets['product'].unique())\n",
    "products.remove(np.nan)\n",
    "\n",
    "# Define a regex pattern for any product\n",
    "pattern = re.compile(r'\\b(' + '|'.join(re.escape(str(p)) for p in products) + r')\\b', re.IGNORECASE)\n",
    "\n",
    "# c\n",
    "def find_product_with_regex(tweet):\n",
    "    # Check if the tweet is a string before performing regex search\n",
    "    if isinstance(tweet, str):\n",
    "        match = pattern.search(tweet)\n",
    "        if match:\n",
    "            return match.group(0)\n",
    "    return np.nan  # Return NaN if no product is found\n",
    "\n",
    "# Apply the function to fill missing values in 'product' column\n",
    "tweets['product'] = tweets['product'].fillna(tweets['text'].apply(find_product_with_regex))\n",
    "tweets['product'].fillna('unknown', inplace=True)"
   ]
  },
  {
   "cell_type": "code",
   "execution_count": 277,
   "metadata": {},
   "outputs": [
    {
     "data": {
      "text/plain": [
       "0"
      ]
     },
     "execution_count": 277,
     "metadata": {},
     "output_type": "execute_result"
    }
   ],
   "source": [
    "# Check for any remaining null values in the 'product' column\n",
    "tweets[tweets['product'].isnull() == True].shape[0]"
   ]
  },
  {
   "cell_type": "markdown",
   "metadata": {},
   "source": [
    "In the tweets dataset, some rows have missing values in the product column, which we previously attempted to populate with the names of products mentioned in each tweet. These missing values are likely from tweets that don’t mention any specific product or where we couldn't detect a product name due to variations in spelling or phrasing.\n",
    "\n",
    "To handle these missing entries, we chose to impute them with the label 'unknown'. This approach allows us to retain these rows in the dataset rather than dropping them, which would reduce our sample size and potentially lead to a loss of valuable contextual information."
   ]
  },
  {
   "cell_type": "code",
   "execution_count": 278,
   "metadata": {},
   "outputs": [],
   "source": [
    "# lets drop the NaN values from the product column\n",
    "tweets['product'] = tweets['product'].dropna()"
   ]
  },
  {
   "cell_type": "code",
   "execution_count": 279,
   "metadata": {},
   "outputs": [
    {
     "name": "stdout",
     "output_type": "stream",
     "text": [
      "Unique products: ['iPhone' 'iPad or iPhone App' 'iPad' 'Google' 'unknown' 'Android' 'Apple'\n",
      " 'Android App' 'Other Google product or service' 'ipad' 'google' 'APPLE'\n",
      " 'apple' 'android' 'iphone' 'IPad' 'Other Apple product or service'\n",
      " 'IPhone' 'GOOGLE' 'Ipad' 'Iphone' 'IPAD' 'iPAD' 'iPHONE' 'ANDROID']\n"
     ]
    }
   ],
   "source": [
    "# Check unique values\n",
    "unique_products = tweets['product'].unique()\n",
    "print(\"Unique products:\", unique_products)"
   ]
  },
  {
   "cell_type": "code",
   "execution_count": 280,
   "metadata": {},
   "outputs": [
    {
     "data": {
      "text/plain": [
       "True"
      ]
     },
     "execution_count": 280,
     "metadata": {},
     "output_type": "execute_result"
    }
   ],
   "source": [
    "# Number of values in the column are the same as the length of the data\n",
    "np.sum(tweets['product'].value_counts().values) == tweets.shape[0]"
   ]
  },
  {
   "cell_type": "markdown",
   "metadata": {},
   "source": [
    "With the various products it would be benefitial to categorize them to three groups, this wold allow classify new products to the category and be aware of the brand comparison in terms of the products each offer\n",
    "\n",
    " - We start by defining two lists, apple_products and google_products, each containing names of well-known products associated with Apple and Google, respectively\n",
    " - These lists allow the program to check for matches against a known set of brand products\n",
    " - We convert all values in the product column to lowercase\n",
    "- Define a function to to check the product and compares with the apple products or google products list.\n",
    "- Match the apppriate product to each category if \"unknown\" is encoutered it should go to the other category."
   ]
  },
  {
   "cell_type": "code",
   "execution_count": 281,
   "metadata": {},
   "outputs": [
    {
     "data": {
      "text/plain": [
       "True"
      ]
     },
     "execution_count": 281,
     "metadata": {},
     "output_type": "execute_result"
    }
   ],
   "source": [
    "# Number of values in the column are the same as the length of the data\n",
    "np.sum(tweets['product'].value_counts().values) == tweets.shape[0]"
   ]
  },
  {
   "cell_type": "code",
   "execution_count": 282,
   "metadata": {},
   "outputs": [
    {
     "data": {
      "text/html": [
       "<div>\n",
       "<style scoped>\n",
       "    .dataframe tbody tr th:only-of-type {\n",
       "        vertical-align: middle;\n",
       "    }\n",
       "\n",
       "    .dataframe tbody tr th {\n",
       "        vertical-align: top;\n",
       "    }\n",
       "\n",
       "    .dataframe thead th {\n",
       "        text-align: right;\n",
       "    }\n",
       "</style>\n",
       "<table border=\"1\" class=\"dataframe\">\n",
       "  <thead>\n",
       "    <tr style=\"text-align: right;\">\n",
       "      <th></th>\n",
       "      <th>text</th>\n",
       "      <th>product</th>\n",
       "      <th>emotion</th>\n",
       "    </tr>\n",
       "  </thead>\n",
       "  <tbody>\n",
       "    <tr>\n",
       "      <th>0</th>\n",
       "      <td>.@wesley83 I have a 3G iPhone. After 3 hrs twe...</td>\n",
       "      <td>iPhone</td>\n",
       "      <td>Negative</td>\n",
       "    </tr>\n",
       "    <tr>\n",
       "      <th>1</th>\n",
       "      <td>@jessedee Know about @fludapp ? Awesome iPad/i...</td>\n",
       "      <td>iPad or iPhone App</td>\n",
       "      <td>Positive</td>\n",
       "    </tr>\n",
       "    <tr>\n",
       "      <th>2</th>\n",
       "      <td>@swonderlin Can not wait for #iPad 2 also. The...</td>\n",
       "      <td>iPad</td>\n",
       "      <td>Positive</td>\n",
       "    </tr>\n",
       "    <tr>\n",
       "      <th>3</th>\n",
       "      <td>@sxsw I hope this year's festival isn't as cra...</td>\n",
       "      <td>iPad or iPhone App</td>\n",
       "      <td>Negative</td>\n",
       "    </tr>\n",
       "    <tr>\n",
       "      <th>4</th>\n",
       "      <td>@sxtxstate great stuff on Fri #SXSW: Marissa M...</td>\n",
       "      <td>Google</td>\n",
       "      <td>Positive</td>\n",
       "    </tr>\n",
       "  </tbody>\n",
       "</table>\n",
       "</div>"
      ],
      "text/plain": [
       "                                                text             product  \\\n",
       "0  .@wesley83 I have a 3G iPhone. After 3 hrs twe...              iPhone   \n",
       "1  @jessedee Know about @fludapp ? Awesome iPad/i...  iPad or iPhone App   \n",
       "2  @swonderlin Can not wait for #iPad 2 also. The...                iPad   \n",
       "3  @sxsw I hope this year's festival isn't as cra...  iPad or iPhone App   \n",
       "4  @sxtxstate great stuff on Fri #SXSW: Marissa M...              Google   \n",
       "\n",
       "    emotion  \n",
       "0  Negative  \n",
       "1  Positive  \n",
       "2  Positive  \n",
       "3  Negative  \n",
       "4  Positive  "
      ]
     },
     "execution_count": 282,
     "metadata": {},
     "output_type": "execute_result"
    }
   ],
   "source": [
    "tweets.head()"
   ]
  },
  {
   "cell_type": "markdown",
   "metadata": {},
   "source": [
    "### Text Column cleaning"
   ]
  },
  {
   "cell_type": "code",
   "execution_count": 283,
   "metadata": {},
   "outputs": [],
   "source": [
    "# lets drop the null value in text column\n",
    "tweets.dropna(subset=['text'], inplace=True)"
   ]
  },
  {
   "cell_type": "code",
   "execution_count": 284,
   "metadata": {},
   "outputs": [],
   "source": [
    " # Remove non-ASCII characters in the text column\n",
    "tweets['text'] = tweets['text'].apply(lambda x: ''.join([char for char in str(x) if ord(char) < 127]))"
   ]
  },
  {
   "cell_type": "code",
   "execution_count": 285,
   "metadata": {},
   "outputs": [
    {
     "data": {
      "text/html": [
       "<div>\n",
       "<style scoped>\n",
       "    .dataframe tbody tr th:only-of-type {\n",
       "        vertical-align: middle;\n",
       "    }\n",
       "\n",
       "    .dataframe tbody tr th {\n",
       "        vertical-align: top;\n",
       "    }\n",
       "\n",
       "    .dataframe thead th {\n",
       "        text-align: right;\n",
       "    }\n",
       "</style>\n",
       "<table border=\"1\" class=\"dataframe\">\n",
       "  <thead>\n",
       "    <tr style=\"text-align: right;\">\n",
       "      <th></th>\n",
       "      <th>text</th>\n",
       "      <th>product</th>\n",
       "      <th>emotion</th>\n",
       "    </tr>\n",
       "  </thead>\n",
       "  <tbody>\n",
       "    <tr>\n",
       "      <th>0</th>\n",
       "      <td>.@wesley83 I have a 3G iPhone. After 3 hrs twe...</td>\n",
       "      <td>iPhone</td>\n",
       "      <td>Negative</td>\n",
       "    </tr>\n",
       "    <tr>\n",
       "      <th>1</th>\n",
       "      <td>@jessedee Know about @fludapp ? Awesome iPad/i...</td>\n",
       "      <td>iPad or iPhone App</td>\n",
       "      <td>Positive</td>\n",
       "    </tr>\n",
       "    <tr>\n",
       "      <th>2</th>\n",
       "      <td>@swonderlin Can not wait for #iPad 2 also. The...</td>\n",
       "      <td>iPad</td>\n",
       "      <td>Positive</td>\n",
       "    </tr>\n",
       "    <tr>\n",
       "      <th>3</th>\n",
       "      <td>@sxsw I hope this year's festival isn't as cra...</td>\n",
       "      <td>iPad or iPhone App</td>\n",
       "      <td>Negative</td>\n",
       "    </tr>\n",
       "    <tr>\n",
       "      <th>4</th>\n",
       "      <td>@sxtxstate great stuff on Fri #SXSW: Marissa M...</td>\n",
       "      <td>Google</td>\n",
       "      <td>Positive</td>\n",
       "    </tr>\n",
       "  </tbody>\n",
       "</table>\n",
       "</div>"
      ],
      "text/plain": [
       "                                                text             product  \\\n",
       "0  .@wesley83 I have a 3G iPhone. After 3 hrs twe...              iPhone   \n",
       "1  @jessedee Know about @fludapp ? Awesome iPad/i...  iPad or iPhone App   \n",
       "2  @swonderlin Can not wait for #iPad 2 also. The...                iPad   \n",
       "3  @sxsw I hope this year's festival isn't as cra...  iPad or iPhone App   \n",
       "4  @sxtxstate great stuff on Fri #SXSW: Marissa M...              Google   \n",
       "\n",
       "    emotion  \n",
       "0  Negative  \n",
       "1  Positive  \n",
       "2  Positive  \n",
       "3  Negative  \n",
       "4  Positive  "
      ]
     },
     "execution_count": 285,
     "metadata": {},
     "output_type": "execute_result"
    }
   ],
   "source": [
    "tweets.head()"
   ]
  },
  {
   "cell_type": "code",
   "execution_count": 286,
   "metadata": {},
   "outputs": [
    {
     "data": {
      "text/html": [
       "<div>\n",
       "<style scoped>\n",
       "    .dataframe tbody tr th:only-of-type {\n",
       "        vertical-align: middle;\n",
       "    }\n",
       "\n",
       "    .dataframe tbody tr th {\n",
       "        vertical-align: top;\n",
       "    }\n",
       "\n",
       "    .dataframe thead th {\n",
       "        text-align: right;\n",
       "    }\n",
       "</style>\n",
       "<table border=\"1\" class=\"dataframe\">\n",
       "  <thead>\n",
       "    <tr style=\"text-align: right;\">\n",
       "      <th></th>\n",
       "      <th>text</th>\n",
       "      <th>product</th>\n",
       "      <th>emotion</th>\n",
       "    </tr>\n",
       "  </thead>\n",
       "  <tbody>\n",
       "    <tr>\n",
       "      <th>0</th>\n",
       "      <td>.@wesley83 I have a 3G iPhone. After 3 hrs twe...</td>\n",
       "      <td>iPhone</td>\n",
       "      <td>Negative</td>\n",
       "    </tr>\n",
       "    <tr>\n",
       "      <th>1</th>\n",
       "      <td>@jessedee Know about @fludapp ? Awesome iPad/i...</td>\n",
       "      <td>iPad or iPhone App</td>\n",
       "      <td>Positive</td>\n",
       "    </tr>\n",
       "    <tr>\n",
       "      <th>2</th>\n",
       "      <td>@swonderlin Can not wait for #iPad 2 also. The...</td>\n",
       "      <td>iPad</td>\n",
       "      <td>Positive</td>\n",
       "    </tr>\n",
       "    <tr>\n",
       "      <th>3</th>\n",
       "      <td>@sxsw I hope this year's festival isn't as cra...</td>\n",
       "      <td>iPad or iPhone App</td>\n",
       "      <td>Negative</td>\n",
       "    </tr>\n",
       "    <tr>\n",
       "      <th>4</th>\n",
       "      <td>@sxtxstate great stuff on Fri #SXSW: Marissa M...</td>\n",
       "      <td>Google</td>\n",
       "      <td>Positive</td>\n",
       "    </tr>\n",
       "  </tbody>\n",
       "</table>\n",
       "</div>"
      ],
      "text/plain": [
       "                                                text             product  \\\n",
       "0  .@wesley83 I have a 3G iPhone. After 3 hrs twe...              iPhone   \n",
       "1  @jessedee Know about @fludapp ? Awesome iPad/i...  iPad or iPhone App   \n",
       "2  @swonderlin Can not wait for #iPad 2 also. The...                iPad   \n",
       "3  @sxsw I hope this year's festival isn't as cra...  iPad or iPhone App   \n",
       "4  @sxtxstate great stuff on Fri #SXSW: Marissa M...              Google   \n",
       "\n",
       "    emotion  \n",
       "0  Negative  \n",
       "1  Positive  \n",
       "2  Positive  \n",
       "3  Negative  \n",
       "4  Positive  "
      ]
     },
     "execution_count": 286,
     "metadata": {},
     "output_type": "execute_result"
    }
   ],
   "source": [
    "# Reset the index\n",
    "tweets.reset_index(inplace=True)\n",
    "# Drop the old index column\n",
    "tweets.drop(labels='index', axis=1, inplace=True)\n",
    "tweets.head()"
   ]
  },
  {
   "cell_type": "markdown",
   "metadata": {},
   "source": [
    "## Univariate Analysis\n"
   ]
  },
  {
   "cell_type": "markdown",
   "metadata": {},
   "source": [
    "Univariate analysis examines individual columns to understand their distributions and characteristics.\n",
    "\n",
    "+ Distribution of emotion: This shows how positive and negative emotions are distributed across the dataset.\n",
    "+ Distribution of product: This helps understand the frequency of the products mentioned.\n",
    "+ Text Analysis: We can analyze the frequency of words in the text column to identify common terms."
   ]
  },
  {
   "cell_type": "code",
   "execution_count": 287,
   "metadata": {},
   "outputs": [
    {
     "data": {
      "image/png": "[encoded data removed]",
      "text/plain": [
       "<Figure size 720x1080 with 1 Axes>"
      ]
     },
     "metadata": {
      "needs_background": "light"
     },
     "output_type": "display_data"
    }
   ],
   "source": [
    "plt.figure(figsize=(10, 15))\n",
    "sns.countplot(y='product', data=tweets, order=tweets['product'].value_counts().index)\n",
    "plt.title('Distribution of Products')\n",
    "plt.xlabel('Count')\n",
    "plt.ylabel('Products')\n",
    "plt.show()"
   ]
  },
  {
   "cell_type": "code",
   "execution_count": 288,
   "metadata": {},
   "outputs": [
    {
     "data": {
      "image/png": "[encoded data removed]",
      "text/plain": [
       "<Figure size 432x288 with 1 Axes>"
      ]
     },
     "metadata": {
      "needs_background": "light"
     },
     "output_type": "display_data"
    }
   ],
   "source": [
    "# Countplot for emotion\n",
    "plt.figure(figsize=(6, 4))\n",
    "sns.countplot(x='emotion', data=tweets)\n",
    "plt.title('Distribution of Emotion')\n",
    "plt.xlabel('Emotion')\n",
    "plt.ylabel('Count')\n",
    "plt.show()\n"
   ]
  },
  {
   "cell_type": "markdown",
   "metadata": {},
   "source": [
    "For the Text column we have to clean the text to get a view of ost mentioned words that offer insights on emotion towards a product ar brand\n",
    "\n",
    "+ Text Cleaning and Processing:\n",
    "\n",
    " + Remove URLs: Detects and removes any URLs in the text. \n",
    " + Remove Mentions: Removes any mentions of users.\n",
    " + Remove Hashtags (Keep Text): Removes the # symbol from hashtags but keeps the rest of the hashtag text.\n",
    " + Remove Special Characters: Eliminates HTML-like special characters.\n",
    " + Remove Punctuation: Removes any punctuation marks from the text.\n",
    " + Tokenization: Splits the text into lowercase words (tokens), breaking at any non-word characters.\n",
    " + Stopword Removal and Lemmatization: Removes common stopwords and lemmatizes each token to reduce words to their base forms.\n",
    " + Remove Extra Whitespace: Strips any extra spaces left around each word, removing empty tokens.\n",
    " + Remove Numbers: Filters out any numeric tokens.\n",
    " + Part-of-Speech (POS) Tagging and Filtering: Tags each token with its part of speech and filters to retain only nouns, adjectives, verbs, and adverbs.\n",
    " + Join Tokens into String: Joins the cleaned tokens back into a single string for easier use in text analysis."
   ]
  },
  {
   "cell_type": "code",
   "execution_count": 289,
   "metadata": {},
   "outputs": [],
   "source": [
    "# Initialize lemmatizer and stopwords\n",
    "lemmatizer = WordNetLemmatizer()\n",
    "stop_words = set(stopwords.words('english') + ['sxsw', 'sxswi', 'link', 'rt'])\n",
    "\n",
    "def clean_text(text):\n",
    "    # Remove URLs\n",
    "    text = re.sub(r'http\\S+', '', text)\n",
    "    # Remove mentions\n",
    "    text = re.sub(r'@\\w+', '', text)\n",
    "    # Remove hashtags (keep the text after the #)\n",
    "    text = re.sub(r'#', '', text)\n",
    "    # Remove special characters like \"&quot;\"\n",
    "    text = re.sub(r'&\\w+;', '', text)\n",
    "    # Remove punctuation\n",
    "    text = \"\".join([char for char in text if char not in string.punctuation])\n",
    "    # Tokenize text\n",
    "    tokens = re.split('\\W+', text.lower())\n",
    "    # Remove stopwords and lemmatize the tokens\n",
    "    tokens = [lemmatizer.lemmatize(word) for word in tokens if word not in stop_words]\n",
    "    # Remove extra white spaces\n",
    "    tokens = [word.strip() for word in tokens if word.strip() != '']\n",
    "    # Remove numbers\n",
    "    tokens = [word for word in tokens if not word.isdigit()]\n",
    "    # Tag parts of speech\n",
    "    pos_tags = nltk.pos_tag(tokens)\n",
    "    # Filter tokens to retain only nouns, adjectives, verbs, and adverbs\n",
    "    important_pos = {'NN', 'NNS', 'NNP', 'NNPS', 'JJ', 'JJR', 'JJS', 'VB', 'VBD', 'VBG', 'VBN', 'VBP', 'VBZ', 'RB', 'RBR', 'RBS'}\n",
    "    tokens = [word for word, tag in pos_tags if tag in important_pos]\n",
    "    return tokens\n",
    "\n"
   ]
  },
  {
   "cell_type": "code",
   "execution_count": 318,
   "metadata": {},
   "outputs": [],
   "source": [
    "# Apply the cleaning function to the 'text' column\n",
    "tweets['cleaned_text'] = tweets['text'].apply(lambda x: clean_text(x))\n",
    "\n",
    "# Cleaned text might already be a string, so no need for \" \".join if it's not a list\n",
    "# tweets['clean_tweet'] = tweets['cleaned_text'].apply(lambda x: x.strip() if isinstance(x, str) else \" \".join(x).strip())\n"
   ]
  },
  {
   "cell_type": "code",
   "execution_count": 319,
   "metadata": {},
   "outputs": [
    {
     "data": {
      "image/png": "[encoded data removed]",
      "text/plain": [
       "<Figure size 1080x360 with 1 Axes>"
      ]
     },
     "metadata": {
      "needs_background": "light"
     },
     "output_type": "display_data"
    }
   ],
   "source": [
    "# Combine all the cleaned text into a single string for the word cloud\n",
    "all_cleaned_text = \" \".join(tweets['cleaned_text'].astype(str))\n",
    "\n",
    "# Generate the word cloud\n",
    "wordcloud = WordCloud(width=800, height=400, background_color='white').generate(all_cleaned_text)\n",
    "\n",
    "# Display the word cloud\n",
    "plt.figure(figsize=(15, 5))\n",
    "plt.imshow(wordcloud, interpolation='bilinear')\n",
    "plt.axis('off')  # Turn off axis\n",
    "plt.show()\n"
   ]
  },
  {
   "cell_type": "markdown",
   "metadata": {},
   "source": [
    "my code keeps having showing these (') in the wordcloud, an error still to disolve."
   ]
  },
  {
   "cell_type": "markdown",
   "metadata": {},
   "source": [
    "## Bivariate Analysis"
   ]
  },
  {
   "cell_type": "markdown",
   "metadata": {},
   "source": [
    "Lets make a catgorized column with the 3 values for apple, google and unknown products to visualize the effects of the product on the other features"
   ]
  },
  {
   "cell_type": "code",
   "execution_count": 292,
   "metadata": {},
   "outputs": [
    {
     "name": "stdout",
     "output_type": "stream",
     "text": [
      "apple     5338\n",
      "google    2809\n",
      "other      789\n",
      "Name: product_category, dtype: int64\n"
     ]
    }
   ],
   "source": [
    "def categorize_product(product):\n",
    "    if not isinstance(product, str):\n",
    "        return 'other'  # Assign 'other' to non-string or missing values\n",
    "    \n",
    "    # List of keywords for classification\n",
    "    apple_keywords = ['iphone', 'ipad', 'mac', 'ios', 'apple', 'ipad or iphone app', 'apple product', 'other apple product']\n",
    "    google_keywords = ['google', 'android', 'google product', 'android app', 'other google product']\n",
    "\n",
    "    # Lowercase the product for consistent matching\n",
    "    product = product.lower()\n",
    "    \n",
    "    # Initialize category as 'other'\n",
    "    category = 'other'\n",
    "    \n",
    "    # Check for Apple-related keywords\n",
    "    for keyword in apple_keywords:\n",
    "        if keyword in product:\n",
    "            category = 'apple'\n",
    "            break\n",
    "\n",
    "    # Check for Google-related keywords\n",
    "    for keyword in google_keywords:\n",
    "        if keyword in product:\n",
    "            category = 'google'\n",
    "            break\n",
    "\n",
    "    return category\n",
    "\n",
    "# Apply the new categorization function\n",
    "tweets['product_category'] = tweets['product'].apply(categorize_product)\n",
    "\n",
    "# Print value counts for the 'product_category' column\n",
    "print(tweets['product_category'].value_counts())\n"
   ]
  },
  {
   "cell_type": "code",
   "execution_count": 293,
   "metadata": {},
   "outputs": [
    {
     "name": "stdout",
     "output_type": "stream",
     "text": [
      "['unknown']\n"
     ]
    }
   ],
   "source": [
    "# Check which products are categorized as 'other'\n",
    "other_category_products = tweets[tweets['product_category'] == 'other']['product']\n",
    "print(other_category_products.unique())"
   ]
  },
  {
   "cell_type": "code",
   "execution_count": 294,
   "metadata": {},
   "outputs": [
    {
     "name": "stdout",
     "output_type": "stream",
     "text": [
      "apple     5338\n",
      "google    2809\n",
      "other      789\n",
      "Name: product_category, dtype: int64\n"
     ]
    }
   ],
   "source": [
    "# Drop rows where 'product_category' is 'other'\n",
    "# tweets = tweets[tweets['product_category'] != 'other']\n",
    "\n",
    "# check the unique values in 'product_category'\n",
    "print(tweets['product_category'].value_counts())\n"
   ]
  },
  {
   "cell_type": "markdown",
   "metadata": {},
   "source": [
    "### Product Category vs. Emotion\n",
    "\n",
    "This analysis shows if certain product categories are associated with more positive or negative emotions."
   ]
  },
  {
   "cell_type": "code",
   "execution_count": 295,
   "metadata": {},
   "outputs": [
    {
     "data": {
      "image/png": "[encoded data removed]",
      "text/plain": [
       "<Figure size 576x360 with 1 Axes>"
      ]
     },
     "metadata": {
      "needs_background": "light"
     },
     "output_type": "display_data"
    }
   ],
   "source": [
    "# Countplot for product category vs emotion\n",
    "plt.figure(figsize=(8, 5))\n",
    "sns.countplot(x='product_category', hue='emotion', data=tweets)\n",
    "plt.title('Product Category vs Emotion')\n",
    "plt.xlabel('Product Category')\n",
    "plt.ylabel('Count')\n",
    "plt.show()\n"
   ]
  },
  {
   "cell_type": "markdown",
   "metadata": {},
   "source": [
    "### Product Category vs. Product\n",
    "This analysis will help see which specific products fall under each category."
   ]
  },
  {
   "cell_type": "code",
   "execution_count": 296,
   "metadata": {},
   "outputs": [
    {
     "data": {
      "image/png": "[encoded data removed]",
      "text/plain": [
       "<Figure size 720x432 with 1 Axes>"
      ]
     },
     "metadata": {
      "needs_background": "light"
     },
     "output_type": "display_data"
    }
   ],
   "source": [
    "# Countplot for product category vs product\n",
    "plt.figure(figsize=(10, 6))\n",
    "sns.countplot(x='product_category', hue='product', data=tweets)\n",
    "plt.title('Product Category vs Product')\n",
    "plt.xlabel('Product Category')\n",
    "plt.ylabel('Count')\n",
    "plt.xticks(rotation=45)\n",
    "plt.show()\n"
   ]
  },
  {
   "cell_type": "markdown",
   "metadata": {},
   "source": [
    "## Feature Engineering\n"
   ]
  },
  {
   "cell_type": "code",
   "execution_count": 297,
   "metadata": {},
   "outputs": [],
   "source": [
    "# For this feature lets create a copy of the dataset and include the features identified\n",
    "tweets_engineered = tweets.copy()"
   ]
  },
  {
   "cell_type": "code",
   "execution_count": 298,
   "metadata": {},
   "outputs": [
    {
     "data": {
      "text/html": [
       "<div>\n",
       "<style scoped>\n",
       "    .dataframe tbody tr th:only-of-type {\n",
       "        vertical-align: middle;\n",
       "    }\n",
       "\n",
       "    .dataframe tbody tr th {\n",
       "        vertical-align: top;\n",
       "    }\n",
       "\n",
       "    .dataframe thead th {\n",
       "        text-align: right;\n",
       "    }\n",
       "</style>\n",
       "<table border=\"1\" class=\"dataframe\">\n",
       "  <thead>\n",
       "    <tr style=\"text-align: right;\">\n",
       "      <th></th>\n",
       "      <th>text</th>\n",
       "      <th>product</th>\n",
       "      <th>emotion</th>\n",
       "      <th>cleaned_text</th>\n",
       "      <th>clean_tweet</th>\n",
       "      <th>product_category</th>\n",
       "    </tr>\n",
       "  </thead>\n",
       "  <tbody>\n",
       "    <tr>\n",
       "      <th>0</th>\n",
       "      <td>.@wesley83 I have a 3G iPhone. After 3 hrs twe...</td>\n",
       "      <td>iPhone</td>\n",
       "      <td>Negative</td>\n",
       "      <td>[iphone, hr, tweeting, riseaustin, dead, need,...</td>\n",
       "      <td>iphone hr tweeting riseaustin dead need upgrad...</td>\n",
       "      <td>apple</td>\n",
       "    </tr>\n",
       "    <tr>\n",
       "      <th>1</th>\n",
       "      <td>@jessedee Know about @fludapp ? Awesome iPad/i...</td>\n",
       "      <td>iPad or iPhone App</td>\n",
       "      <td>Positive</td>\n",
       "      <td>[know, awesome, ipadiphone, app, youll, likely...</td>\n",
       "      <td>know awesome ipadiphone app youll likely appre...</td>\n",
       "      <td>apple</td>\n",
       "    </tr>\n",
       "    <tr>\n",
       "      <th>2</th>\n",
       "      <td>@swonderlin Can not wait for #iPad 2 also. The...</td>\n",
       "      <td>iPad</td>\n",
       "      <td>Positive</td>\n",
       "      <td>[wait, ipad, also, sale]</td>\n",
       "      <td>wait ipad also sale</td>\n",
       "      <td>apple</td>\n",
       "    </tr>\n",
       "    <tr>\n",
       "      <th>3</th>\n",
       "      <td>@sxsw I hope this year's festival isn't as cra...</td>\n",
       "      <td>iPad or iPhone App</td>\n",
       "      <td>Negative</td>\n",
       "      <td>[hope, year, festival, isnt, crashy, year, iph...</td>\n",
       "      <td>hope year festival isnt crashy year iphone app</td>\n",
       "      <td>apple</td>\n",
       "    </tr>\n",
       "    <tr>\n",
       "      <th>4</th>\n",
       "      <td>@sxtxstate great stuff on Fri #SXSW: Marissa M...</td>\n",
       "      <td>Google</td>\n",
       "      <td>Positive</td>\n",
       "      <td>[great, stuff, fri, mayer, google, tim, oreill...</td>\n",
       "      <td>great stuff fri mayer google tim oreilly tech ...</td>\n",
       "      <td>google</td>\n",
       "    </tr>\n",
       "  </tbody>\n",
       "</table>\n",
       "</div>"
      ],
      "text/plain": [
       "                                                text             product  \\\n",
       "0  .@wesley83 I have a 3G iPhone. After 3 hrs twe...              iPhone   \n",
       "1  @jessedee Know about @fludapp ? Awesome iPad/i...  iPad or iPhone App   \n",
       "2  @swonderlin Can not wait for #iPad 2 also. The...                iPad   \n",
       "3  @sxsw I hope this year's festival isn't as cra...  iPad or iPhone App   \n",
       "4  @sxtxstate great stuff on Fri #SXSW: Marissa M...              Google   \n",
       "\n",
       "    emotion                                       cleaned_text  \\\n",
       "0  Negative  [iphone, hr, tweeting, riseaustin, dead, need,...   \n",
       "1  Positive  [know, awesome, ipadiphone, app, youll, likely...   \n",
       "2  Positive                           [wait, ipad, also, sale]   \n",
       "3  Negative  [hope, year, festival, isnt, crashy, year, iph...   \n",
       "4  Positive  [great, stuff, fri, mayer, google, tim, oreill...   \n",
       "\n",
       "                                         clean_tweet product_category  \n",
       "0  iphone hr tweeting riseaustin dead need upgrad...            apple  \n",
       "1  know awesome ipadiphone app youll likely appre...            apple  \n",
       "2                                wait ipad also sale            apple  \n",
       "3     hope year festival isnt crashy year iphone app            apple  \n",
       "4  great stuff fri mayer google tim oreilly tech ...           google  "
      ]
     },
     "execution_count": 298,
     "metadata": {},
     "output_type": "execute_result"
    }
   ],
   "source": [
    "tweets_engineered.head()"
   ]
  },
  {
   "cell_type": "code",
   "execution_count": 299,
   "metadata": {},
   "outputs": [
    {
     "name": "stdout",
     "output_type": "stream",
     "text": [
      "<class 'pandas.core.frame.DataFrame'>\n",
      "RangeIndex: 8936 entries, 0 to 8935\n",
      "Data columns (total 6 columns):\n",
      " #   Column            Non-Null Count  Dtype \n",
      "---  ------            --------------  ----- \n",
      " 0   text              8936 non-null   object\n",
      " 1   product           8936 non-null   object\n",
      " 2   emotion           8936 non-null   object\n",
      " 3   cleaned_text      8936 non-null   object\n",
      " 4   clean_tweet       8936 non-null   object\n",
      " 5   product_category  8936 non-null   object\n",
      "dtypes: object(6)\n",
      "memory usage: 419.0+ KB\n"
     ]
    }
   ],
   "source": [
    "tweets_engineered.info()"
   ]
  },
  {
   "cell_type": "markdown",
   "metadata": {},
   "source": [
    "## Data Preprocessing"
   ]
  },
  {
   "cell_type": "markdown",
   "metadata": {},
   "source": [
    "**The following process were identified as steps taken for preprocessing the dataset**\n",
    "\n",
    "+ Label Encoding:\n",
    "    The emotion column has been encoded for compatibility with machine learning models, using the following labels:\n",
    "\n",
    "    Positive: 1\n",
    "    Neutral: 0\n",
    "    Negative: -1\n",
    "    The product_category column has been encoded with the following labels:\n",
    "\n",
    "    Apple: 1\n",
    "    Google: 2\n",
    "    Other: 3\n",
    "\n",
    "+ Product Normalization: We convert all product names to lowercase to ensure consistency. If necessary, we could also merge entries that are essentially the same (like \"iphone\" and \"i-phone\") by mapping them to a single identifier.\n",
    "\n"
   ]
  },
  {
   "cell_type": "code",
   "execution_count": 300,
   "metadata": {},
   "outputs": [
    {
     "name": "stdout",
     "output_type": "stream",
     "text": [
      "<class 'pandas.core.frame.DataFrame'>\n",
      "RangeIndex: 8936 entries, 0 to 8935\n",
      "Data columns (total 6 columns):\n",
      " #   Column            Non-Null Count  Dtype \n",
      "---  ------            --------------  ----- \n",
      " 0   text              8936 non-null   object\n",
      " 1   product           8936 non-null   object\n",
      " 2   emotion           8936 non-null   object\n",
      " 3   cleaned_text      8936 non-null   object\n",
      " 4   clean_tweet       8936 non-null   object\n",
      " 5   product_category  8936 non-null   object\n",
      "dtypes: object(6)\n",
      "memory usage: 419.0+ KB\n"
     ]
    }
   ],
   "source": [
    "tweets.info()"
   ]
  },
  {
   "cell_type": "code",
   "execution_count": 301,
   "metadata": {},
   "outputs": [
    {
     "data": {
      "text/plain": [
       "Neutral     5388\n",
       "Positive    2978\n",
       "Negative     570\n",
       "Name: emotion, dtype: int64"
      ]
     },
     "execution_count": 301,
     "metadata": {},
     "output_type": "execute_result"
    }
   ],
   "source": [
    "tweets['emotion'].value_counts()"
   ]
  },
  {
   "cell_type": "code",
   "execution_count": 302,
   "metadata": {},
   "outputs": [
    {
     "data": {
      "text/plain": [
       "iPad                               1821\n",
       "Google                             1816\n",
       "Apple                              1577\n",
       "iPhone                             1004\n",
       "unknown                             789\n",
       "iPad or iPhone App                  470\n",
       "Other Google product or service     292\n",
       "Android                             279\n",
       "google                              269\n",
       "apple                               166\n",
       "ipad                                125\n",
       "iphone                               90\n",
       "Android App                          81\n",
       "android                              63\n",
       "Other Apple product or service       35\n",
       "IPad                                 17\n",
       "Ipad                                 10\n",
       "IPhone                                8\n",
       "GOOGLE                                8\n",
       "Iphone                                5\n",
       "APPLE                                 4\n",
       "IPAD                                  3\n",
       "iPAD                                  2\n",
       "ANDROID                               1\n",
       "iPHONE                                1\n",
       "Name: product, dtype: int64"
      ]
     },
     "execution_count": 302,
     "metadata": {},
     "output_type": "execute_result"
    }
   ],
   "source": [
    "tweets['product'].value_counts()"
   ]
  },
  {
   "cell_type": "code",
   "execution_count": 303,
   "metadata": {},
   "outputs": [],
   "source": [
    "# Define custom mappings for the 'emotion' and 'product_category' columns\n",
    "emotion_mapping = {\n",
    "    'Positive': 1,\n",
    "    'Neutral': 0,\n",
    "    'Negative': -1,\n",
    "}\n",
    "\n",
    "product_category_mapping = {\n",
    "    'apple': 1,\n",
    "    'google': 2,\n",
    "    'other': 3\n",
    "}\n",
    "\n",
    "# Apply mappings to create new encoded columns\n",
    "tweets['product_category_encoded'] = tweets['product_category'].map(product_category_mapping)\n",
    "tweets['emotion_encoded'] = tweets['emotion'].map(emotion_mapping)\n",
    "\n",
    "\n",
    "# Normalize product names to lowercase and remove duplicates\n",
    "tweets['product'] = tweets['product'].str.lower()\n"
   ]
  },
  {
   "cell_type": "code",
   "execution_count": 304,
   "metadata": {},
   "outputs": [
    {
     "name": "stdout",
     "output_type": "stream",
     "text": [
      "1    5338\n",
      "2    2809\n",
      "3     789\n",
      "Name: product_category_encoded, dtype: int64\n"
     ]
    }
   ],
   "source": [
    "\n",
    "# Check Label encoded columns\n",
    "print(tweets['product_category_encoded'].value_counts())"
   ]
  },
  {
   "cell_type": "code",
   "execution_count": 305,
   "metadata": {},
   "outputs": [
    {
     "name": "stdout",
     "output_type": "stream",
     "text": [
      " 0    5388\n",
      " 1    2978\n",
      "-1     570\n",
      "Name: emotion_encoded, dtype: int64\n"
     ]
    }
   ],
   "source": [
    "print(tweets['emotion_encoded'].value_counts())"
   ]
  },
  {
   "cell_type": "code",
   "execution_count": 306,
   "metadata": {},
   "outputs": [
    {
     "name": "stdout",
     "output_type": "stream",
     "text": [
      "google                             2093\n",
      "ipad                               1978\n",
      "apple                              1747\n",
      "iphone                             1108\n",
      "unknown                             789\n",
      "ipad or iphone app                  470\n",
      "android                             343\n",
      "other google product or service     292\n",
      "android app                          81\n",
      "other apple product or service       35\n",
      "Name: product, dtype: int64\n"
     ]
    }
   ],
   "source": [
    "# Check unique values and counts after standardization\n",
    "print(tweets['product'].value_counts())"
   ]
  },
  {
   "cell_type": "code",
   "execution_count": 307,
   "metadata": {},
   "outputs": [
    {
     "name": "stdout",
     "output_type": "stream",
     "text": [
      "<class 'pandas.core.frame.DataFrame'>\n",
      "RangeIndex: 8936 entries, 0 to 8935\n",
      "Data columns (total 8 columns):\n",
      " #   Column                    Non-Null Count  Dtype \n",
      "---  ------                    --------------  ----- \n",
      " 0   text                      8936 non-null   object\n",
      " 1   product                   8936 non-null   object\n",
      " 2   emotion                   8936 non-null   object\n",
      " 3   cleaned_text              8936 non-null   object\n",
      " 4   clean_tweet               8936 non-null   object\n",
      " 5   product_category          8936 non-null   object\n",
      " 6   product_category_encoded  8936 non-null   int64 \n",
      " 7   emotion_encoded           8936 non-null   int64 \n",
      "dtypes: int64(2), object(6)\n",
      "memory usage: 558.6+ KB\n"
     ]
    }
   ],
   "source": [
    "tweets.info()"
   ]
  },
  {
   "cell_type": "code",
   "execution_count": 308,
   "metadata": {},
   "outputs": [
    {
     "data": {
      "text/html": [
       "<div>\n",
       "<style scoped>\n",
       "    .dataframe tbody tr th:only-of-type {\n",
       "        vertical-align: middle;\n",
       "    }\n",
       "\n",
       "    .dataframe tbody tr th {\n",
       "        vertical-align: top;\n",
       "    }\n",
       "\n",
       "    .dataframe thead th {\n",
       "        text-align: right;\n",
       "    }\n",
       "</style>\n",
       "<table border=\"1\" class=\"dataframe\">\n",
       "  <thead>\n",
       "    <tr style=\"text-align: right;\">\n",
       "      <th></th>\n",
       "      <th>text</th>\n",
       "      <th>product</th>\n",
       "      <th>emotion</th>\n",
       "      <th>cleaned_text</th>\n",
       "      <th>clean_tweet</th>\n",
       "      <th>product_category</th>\n",
       "      <th>product_category_encoded</th>\n",
       "      <th>emotion_encoded</th>\n",
       "    </tr>\n",
       "  </thead>\n",
       "  <tbody>\n",
       "    <tr>\n",
       "      <th>0</th>\n",
       "      <td>.@wesley83 I have a 3G iPhone. After 3 hrs twe...</td>\n",
       "      <td>iphone</td>\n",
       "      <td>Negative</td>\n",
       "      <td>[iphone, hr, tweeting, riseaustin, dead, need,...</td>\n",
       "      <td>iphone hr tweeting riseaustin dead need upgrad...</td>\n",
       "      <td>apple</td>\n",
       "      <td>1</td>\n",
       "      <td>-1</td>\n",
       "    </tr>\n",
       "    <tr>\n",
       "      <th>1</th>\n",
       "      <td>@jessedee Know about @fludapp ? Awesome iPad/i...</td>\n",
       "      <td>ipad or iphone app</td>\n",
       "      <td>Positive</td>\n",
       "      <td>[know, awesome, ipadiphone, app, youll, likely...</td>\n",
       "      <td>know awesome ipadiphone app youll likely appre...</td>\n",
       "      <td>apple</td>\n",
       "      <td>1</td>\n",
       "      <td>1</td>\n",
       "    </tr>\n",
       "    <tr>\n",
       "      <th>2</th>\n",
       "      <td>@swonderlin Can not wait for #iPad 2 also. The...</td>\n",
       "      <td>ipad</td>\n",
       "      <td>Positive</td>\n",
       "      <td>[wait, ipad, also, sale]</td>\n",
       "      <td>wait ipad also sale</td>\n",
       "      <td>apple</td>\n",
       "      <td>1</td>\n",
       "      <td>1</td>\n",
       "    </tr>\n",
       "    <tr>\n",
       "      <th>3</th>\n",
       "      <td>@sxsw I hope this year's festival isn't as cra...</td>\n",
       "      <td>ipad or iphone app</td>\n",
       "      <td>Negative</td>\n",
       "      <td>[hope, year, festival, isnt, crashy, year, iph...</td>\n",
       "      <td>hope year festival isnt crashy year iphone app</td>\n",
       "      <td>apple</td>\n",
       "      <td>1</td>\n",
       "      <td>-1</td>\n",
       "    </tr>\n",
       "    <tr>\n",
       "      <th>4</th>\n",
       "      <td>@sxtxstate great stuff on Fri #SXSW: Marissa M...</td>\n",
       "      <td>google</td>\n",
       "      <td>Positive</td>\n",
       "      <td>[great, stuff, fri, mayer, google, tim, oreill...</td>\n",
       "      <td>great stuff fri mayer google tim oreilly tech ...</td>\n",
       "      <td>google</td>\n",
       "      <td>2</td>\n",
       "      <td>1</td>\n",
       "    </tr>\n",
       "  </tbody>\n",
       "</table>\n",
       "</div>"
      ],
      "text/plain": [
       "                                                text             product  \\\n",
       "0  .@wesley83 I have a 3G iPhone. After 3 hrs twe...              iphone   \n",
       "1  @jessedee Know about @fludapp ? Awesome iPad/i...  ipad or iphone app   \n",
       "2  @swonderlin Can not wait for #iPad 2 also. The...                ipad   \n",
       "3  @sxsw I hope this year's festival isn't as cra...  ipad or iphone app   \n",
       "4  @sxtxstate great stuff on Fri #SXSW: Marissa M...              google   \n",
       "\n",
       "    emotion                                       cleaned_text  \\\n",
       "0  Negative  [iphone, hr, tweeting, riseaustin, dead, need,...   \n",
       "1  Positive  [know, awesome, ipadiphone, app, youll, likely...   \n",
       "2  Positive                           [wait, ipad, also, sale]   \n",
       "3  Negative  [hope, year, festival, isnt, crashy, year, iph...   \n",
       "4  Positive  [great, stuff, fri, mayer, google, tim, oreill...   \n",
       "\n",
       "                                         clean_tweet product_category  \\\n",
       "0  iphone hr tweeting riseaustin dead need upgrad...            apple   \n",
       "1  know awesome ipadiphone app youll likely appre...            apple   \n",
       "2                                wait ipad also sale            apple   \n",
       "3     hope year festival isnt crashy year iphone app            apple   \n",
       "4  great stuff fri mayer google tim oreilly tech ...           google   \n",
       "\n",
       "   product_category_encoded  emotion_encoded  \n",
       "0                         1               -1  \n",
       "1                         1                1  \n",
       "2                         1                1  \n",
       "3                         1               -1  \n",
       "4                         2                1  "
      ]
     },
     "execution_count": 308,
     "metadata": {},
     "output_type": "execute_result"
    }
   ],
   "source": [
    "tweets.head()"
   ]
  },
  {
   "cell_type": "code",
   "execution_count": 309,
   "metadata": {},
   "outputs": [
    {
     "data": {
      "text/html": [
       "<div>\n",
       "<style scoped>\n",
       "    .dataframe tbody tr th:only-of-type {\n",
       "        vertical-align: middle;\n",
       "    }\n",
       "\n",
       "    .dataframe tbody tr th {\n",
       "        vertical-align: top;\n",
       "    }\n",
       "\n",
       "    .dataframe thead th {\n",
       "        text-align: right;\n",
       "    }\n",
       "</style>\n",
       "<table border=\"1\" class=\"dataframe\">\n",
       "  <thead>\n",
       "    <tr style=\"text-align: right;\">\n",
       "      <th></th>\n",
       "      <th>clean_tweet</th>\n",
       "      <th>product_category_encoded</th>\n",
       "      <th>emotion_encoded</th>\n",
       "    </tr>\n",
       "  </thead>\n",
       "  <tbody>\n",
       "    <tr>\n",
       "      <th>0</th>\n",
       "      <td>iphone hr tweeting riseaustin dead need upgrad...</td>\n",
       "      <td>1</td>\n",
       "      <td>-1</td>\n",
       "    </tr>\n",
       "    <tr>\n",
       "      <th>1</th>\n",
       "      <td>know awesome ipadiphone app youll likely appre...</td>\n",
       "      <td>1</td>\n",
       "      <td>1</td>\n",
       "    </tr>\n",
       "    <tr>\n",
       "      <th>2</th>\n",
       "      <td>wait ipad also sale</td>\n",
       "      <td>1</td>\n",
       "      <td>1</td>\n",
       "    </tr>\n",
       "    <tr>\n",
       "      <th>3</th>\n",
       "      <td>hope year festival isnt crashy year iphone app</td>\n",
       "      <td>1</td>\n",
       "      <td>-1</td>\n",
       "    </tr>\n",
       "    <tr>\n",
       "      <th>4</th>\n",
       "      <td>great stuff fri mayer google tim oreilly tech ...</td>\n",
       "      <td>2</td>\n",
       "      <td>1</td>\n",
       "    </tr>\n",
       "  </tbody>\n",
       "</table>\n",
       "</div>"
      ],
      "text/plain": [
       "                                         clean_tweet  \\\n",
       "0  iphone hr tweeting riseaustin dead need upgrad...   \n",
       "1  know awesome ipadiphone app youll likely appre...   \n",
       "2                                wait ipad also sale   \n",
       "3     hope year festival isnt crashy year iphone app   \n",
       "4  great stuff fri mayer google tim oreilly tech ...   \n",
       "\n",
       "   product_category_encoded  emotion_encoded  \n",
       "0                         1               -1  \n",
       "1                         1                1  \n",
       "2                         1                1  \n",
       "3                         1               -1  \n",
       "4                         2                1  "
      ]
     },
     "execution_count": 309,
     "metadata": {},
     "output_type": "execute_result"
    }
   ],
   "source": [
    "# Drop original columns and keep the cleaned version\n",
    "tweets_cleaned = tweets.drop(['text', 'product_category', 'emotion','product','cleaned_text'], axis=1)\n",
    "\n",
    "# Display the processed dataset first few rows\n",
    "tweets_cleaned.head()"
   ]
  },
  {
   "cell_type": "markdown",
   "metadata": {},
   "source": [
    "## Data Modelling\n"
   ]
  },
  {
   "cell_type": "code",
   "execution_count": 310,
   "metadata": {},
   "outputs": [
    {
     "data": {
      "text/html": [
       "<div>\n",
       "<style scoped>\n",
       "    .dataframe tbody tr th:only-of-type {\n",
       "        vertical-align: middle;\n",
       "    }\n",
       "\n",
       "    .dataframe tbody tr th {\n",
       "        vertical-align: top;\n",
       "    }\n",
       "\n",
       "    .dataframe thead th {\n",
       "        text-align: right;\n",
       "    }\n",
       "</style>\n",
       "<table border=\"1\" class=\"dataframe\">\n",
       "  <thead>\n",
       "    <tr style=\"text-align: right;\">\n",
       "      <th></th>\n",
       "      <th>clean_tweet</th>\n",
       "      <th>product_category_encoded</th>\n",
       "      <th>emotion_encoded</th>\n",
       "    </tr>\n",
       "  </thead>\n",
       "  <tbody>\n",
       "    <tr>\n",
       "      <th>0</th>\n",
       "      <td>iphone hr tweeting riseaustin dead need upgrad...</td>\n",
       "      <td>1</td>\n",
       "      <td>-1</td>\n",
       "    </tr>\n",
       "    <tr>\n",
       "      <th>1</th>\n",
       "      <td>know awesome ipadiphone app youll likely appre...</td>\n",
       "      <td>1</td>\n",
       "      <td>1</td>\n",
       "    </tr>\n",
       "    <tr>\n",
       "      <th>2</th>\n",
       "      <td>wait ipad also sale</td>\n",
       "      <td>1</td>\n",
       "      <td>1</td>\n",
       "    </tr>\n",
       "    <tr>\n",
       "      <th>3</th>\n",
       "      <td>hope year festival isnt crashy year iphone app</td>\n",
       "      <td>1</td>\n",
       "      <td>-1</td>\n",
       "    </tr>\n",
       "    <tr>\n",
       "      <th>4</th>\n",
       "      <td>great stuff fri mayer google tim oreilly tech ...</td>\n",
       "      <td>2</td>\n",
       "      <td>1</td>\n",
       "    </tr>\n",
       "  </tbody>\n",
       "</table>\n",
       "</div>"
      ],
      "text/plain": [
       "                                         clean_tweet  \\\n",
       "0  iphone hr tweeting riseaustin dead need upgrad...   \n",
       "1  know awesome ipadiphone app youll likely appre...   \n",
       "2                                wait ipad also sale   \n",
       "3     hope year festival isnt crashy year iphone app   \n",
       "4  great stuff fri mayer google tim oreilly tech ...   \n",
       "\n",
       "   product_category_encoded  emotion_encoded  \n",
       "0                         1               -1  \n",
       "1                         1                1  \n",
       "2                         1                1  \n",
       "3                         1               -1  \n",
       "4                         2                1  "
      ]
     },
     "execution_count": 310,
     "metadata": {},
     "output_type": "execute_result"
    }
   ],
   "source": [
    "tweets_cleaned.head()"
   ]
  },
  {
   "cell_type": "code",
   "execution_count": 311,
   "metadata": {},
   "outputs": [
    {
     "name": "stdout",
     "output_type": "stream",
     "text": [
      "<class 'pandas.core.frame.DataFrame'>\n",
      "RangeIndex: 8936 entries, 0 to 8935\n",
      "Data columns (total 3 columns):\n",
      " #   Column                    Non-Null Count  Dtype \n",
      "---  ------                    --------------  ----- \n",
      " 0   clean_tweet               8936 non-null   object\n",
      " 1   product_category_encoded  8936 non-null   int64 \n",
      " 2   emotion_encoded           8936 non-null   int64 \n",
      "dtypes: int64(2), object(1)\n",
      "memory usage: 209.6+ KB\n"
     ]
    }
   ],
   "source": [
    "tweets_cleaned.info()"
   ]
  },
  {
   "cell_type": "code",
   "execution_count": 312,
   "metadata": {},
   "outputs": [],
   "source": [
    "\n",
    "# Ensure `clean_tweet` is a string by joining tokens\n",
    "tweets_cleaned['clean_tweet'] = tweets_cleaned['clean_tweet'].apply(lambda x: ' '.join(x) if isinstance(x, list) else x)\n"
   ]
  },
  {
   "cell_type": "code",
   "execution_count": 313,
   "metadata": {},
   "outputs": [
    {
     "data": {
      "text/html": [
       "<div>\n",
       "<style scoped>\n",
       "    .dataframe tbody tr th:only-of-type {\n",
       "        vertical-align: middle;\n",
       "    }\n",
       "\n",
       "    .dataframe tbody tr th {\n",
       "        vertical-align: top;\n",
       "    }\n",
       "\n",
       "    .dataframe thead th {\n",
       "        text-align: right;\n",
       "    }\n",
       "</style>\n",
       "<table border=\"1\" class=\"dataframe\">\n",
       "  <thead>\n",
       "    <tr style=\"text-align: right;\">\n",
       "      <th></th>\n",
       "      <th>clean_tweet</th>\n",
       "      <th>product_category_encoded</th>\n",
       "      <th>emotion_encoded</th>\n",
       "    </tr>\n",
       "  </thead>\n",
       "  <tbody>\n",
       "    <tr>\n",
       "      <th>0</th>\n",
       "      <td>iphone hr tweeting riseaustin dead need upgrad...</td>\n",
       "      <td>1</td>\n",
       "      <td>-1</td>\n",
       "    </tr>\n",
       "    <tr>\n",
       "      <th>1</th>\n",
       "      <td>know awesome ipadiphone app youll likely appre...</td>\n",
       "      <td>1</td>\n",
       "      <td>1</td>\n",
       "    </tr>\n",
       "    <tr>\n",
       "      <th>2</th>\n",
       "      <td>wait ipad also sale</td>\n",
       "      <td>1</td>\n",
       "      <td>1</td>\n",
       "    </tr>\n",
       "    <tr>\n",
       "      <th>3</th>\n",
       "      <td>hope year festival isnt crashy year iphone app</td>\n",
       "      <td>1</td>\n",
       "      <td>-1</td>\n",
       "    </tr>\n",
       "    <tr>\n",
       "      <th>4</th>\n",
       "      <td>great stuff fri mayer google tim oreilly tech ...</td>\n",
       "      <td>2</td>\n",
       "      <td>1</td>\n",
       "    </tr>\n",
       "    <tr>\n",
       "      <th>...</th>\n",
       "      <td>...</td>\n",
       "      <td>...</td>\n",
       "      <td>...</td>\n",
       "    </tr>\n",
       "    <tr>\n",
       "      <th>8931</th>\n",
       "      <td>ipad everywhere</td>\n",
       "      <td>1</td>\n",
       "      <td>1</td>\n",
       "    </tr>\n",
       "    <tr>\n",
       "      <th>8932</th>\n",
       "      <td>wave buzz interrupt regularly scheduled geek p...</td>\n",
       "      <td>2</td>\n",
       "      <td>0</td>\n",
       "    </tr>\n",
       "    <tr>\n",
       "      <th>8933</th>\n",
       "      <td>google zeiger physician never reported potenti...</td>\n",
       "      <td>2</td>\n",
       "      <td>0</td>\n",
       "    </tr>\n",
       "    <tr>\n",
       "      <th>8934</th>\n",
       "      <td>verizon iphone customer complained time fell b...</td>\n",
       "      <td>1</td>\n",
       "      <td>0</td>\n",
       "    </tr>\n",
       "    <tr>\n",
       "      <th>8935</th>\n",
       "      <td>google test checkin offer</td>\n",
       "      <td>2</td>\n",
       "      <td>0</td>\n",
       "    </tr>\n",
       "  </tbody>\n",
       "</table>\n",
       "<p>8936 rows × 3 columns</p>\n",
       "</div>"
      ],
      "text/plain": [
       "                                            clean_tweet  \\\n",
       "0     iphone hr tweeting riseaustin dead need upgrad...   \n",
       "1     know awesome ipadiphone app youll likely appre...   \n",
       "2                                   wait ipad also sale   \n",
       "3        hope year festival isnt crashy year iphone app   \n",
       "4     great stuff fri mayer google tim oreilly tech ...   \n",
       "...                                                 ...   \n",
       "8931                                    ipad everywhere   \n",
       "8932  wave buzz interrupt regularly scheduled geek p...   \n",
       "8933  google zeiger physician never reported potenti...   \n",
       "8934  verizon iphone customer complained time fell b...   \n",
       "8935                          google test checkin offer   \n",
       "\n",
       "      product_category_encoded  emotion_encoded  \n",
       "0                            1               -1  \n",
       "1                            1                1  \n",
       "2                            1                1  \n",
       "3                            1               -1  \n",
       "4                            2                1  \n",
       "...                        ...              ...  \n",
       "8931                         1                1  \n",
       "8932                         2                0  \n",
       "8933                         2                0  \n",
       "8934                         1                0  \n",
       "8935                         2                0  \n",
       "\n",
       "[8936 rows x 3 columns]"
      ]
     },
     "execution_count": 313,
     "metadata": {},
     "output_type": "execute_result"
    }
   ],
   "source": [
    "tweets_cleaned"
   ]
  },
  {
   "cell_type": "code",
   "execution_count": 314,
   "metadata": {},
   "outputs": [
    {
     "name": "stdout",
     "output_type": "stream",
     "text": [
      "Evaluating Logistic Regression...\n",
      "\n",
      "Using CountVectorizer with Logistic Regression:\n",
      "              precision    recall  f1-score   support\n",
      "\n",
      "          -1       0.27      0.45      0.34       114\n",
      "           0       0.73      0.67      0.70      1078\n",
      "           1       0.55      0.55      0.55       596\n",
      "\n",
      "    accuracy                           0.62      1788\n",
      "   macro avg       0.51      0.56      0.53      1788\n",
      "weighted avg       0.64      0.62      0.63      1788\n",
      "\n",
      "\n",
      "Using TfidfVectorizer with Logistic Regression:\n",
      "              precision    recall  f1-score   support\n",
      "\n",
      "          -1       0.32      0.54      0.41       114\n",
      "           0       0.75      0.69      0.72      1078\n",
      "           1       0.58      0.59      0.58       596\n",
      "\n",
      "    accuracy                           0.65      1788\n",
      "   macro avg       0.55      0.61      0.57      1788\n",
      "weighted avg       0.67      0.65      0.65      1788\n",
      "\n",
      "Evaluating Random Forest...\n",
      "\n",
      "Using CountVectorizer with Random Forest:\n",
      "              precision    recall  f1-score   support\n",
      "\n",
      "          -1       0.25      0.52      0.34       114\n",
      "           0       0.74      0.60      0.66      1078\n",
      "           1       0.51      0.58      0.55       596\n",
      "\n",
      "    accuracy                           0.59      1788\n",
      "   macro avg       0.50      0.57      0.52      1788\n",
      "weighted avg       0.63      0.59      0.60      1788\n",
      "\n",
      "\n",
      "Using TfidfVectorizer with Random Forest:\n",
      "              precision    recall  f1-score   support\n",
      "\n",
      "          -1       0.61      0.32      0.42       114\n",
      "           0       0.71      0.82      0.76      1078\n",
      "           1       0.62      0.51      0.56       596\n",
      "\n",
      "    accuracy                           0.68      1788\n",
      "   macro avg       0.65      0.55      0.58      1788\n",
      "weighted avg       0.68      0.68      0.67      1788\n",
      "\n",
      "Evaluating SVM...\n",
      "\n",
      "Using CountVectorizer with SVM:\n",
      "              precision    recall  f1-score   support\n",
      "\n",
      "          -1       0.20      0.22      0.21       114\n",
      "           0       0.69      0.76      0.72      1078\n",
      "           1       0.58      0.46      0.51       596\n",
      "\n",
      "    accuracy                           0.63      1788\n",
      "   macro avg       0.49      0.48      0.48      1788\n",
      "weighted avg       0.62      0.63      0.62      1788\n",
      "\n",
      "\n",
      "Using TfidfVectorizer with SVM:\n",
      "              precision    recall  f1-score   support\n",
      "\n",
      "          -1       0.62      0.28      0.39       114\n",
      "           0       0.71      0.85      0.77      1078\n",
      "           1       0.66      0.49      0.56       596\n",
      "\n",
      "    accuracy                           0.69      1788\n",
      "   macro avg       0.66      0.54      0.57      1788\n",
      "weighted avg       0.69      0.69      0.68      1788\n",
      "\n",
      "\n",
      "Count_Logistic Regression Classification Report:\n",
      "              precision    recall  f1-score   support\n",
      "\n",
      "          -1       0.27      0.45      0.34       114\n",
      "           0       0.73      0.67      0.70      1078\n",
      "           1       0.55      0.55      0.55       596\n",
      "\n",
      "    accuracy                           0.62      1788\n",
      "   macro avg       0.51      0.56      0.53      1788\n",
      "weighted avg       0.64      0.62      0.63      1788\n",
      "\n",
      "\n",
      "Tfidf_Logistic Regression Classification Report:\n",
      "              precision    recall  f1-score   support\n",
      "\n",
      "          -1       0.32      0.54      0.41       114\n",
      "           0       0.75      0.69      0.72      1078\n",
      "           1       0.58      0.59      0.58       596\n",
      "\n",
      "    accuracy                           0.65      1788\n",
      "   macro avg       0.55      0.61      0.57      1788\n",
      "weighted avg       0.67      0.65      0.65      1788\n",
      "\n",
      "\n",
      "Count_Random Forest Classification Report:\n",
      "              precision    recall  f1-score   support\n",
      "\n",
      "          -1       0.25      0.52      0.34       114\n",
      "           0       0.74      0.60      0.66      1078\n",
      "           1       0.51      0.58      0.55       596\n",
      "\n",
      "    accuracy                           0.59      1788\n",
      "   macro avg       0.50      0.57      0.52      1788\n",
      "weighted avg       0.63      0.59      0.60      1788\n",
      "\n",
      "\n",
      "Tfidf_Random Forest Classification Report:\n",
      "              precision    recall  f1-score   support\n",
      "\n",
      "          -1       0.61      0.32      0.42       114\n",
      "           0       0.71      0.82      0.76      1078\n",
      "           1       0.62      0.51      0.56       596\n",
      "\n",
      "    accuracy                           0.68      1788\n",
      "   macro avg       0.65      0.55      0.58      1788\n",
      "weighted avg       0.68      0.68      0.67      1788\n",
      "\n",
      "\n",
      "Count_SVM Classification Report:\n",
      "              precision    recall  f1-score   support\n",
      "\n",
      "          -1       0.20      0.22      0.21       114\n",
      "           0       0.69      0.76      0.72      1078\n",
      "           1       0.58      0.46      0.51       596\n",
      "\n",
      "    accuracy                           0.63      1788\n",
      "   macro avg       0.49      0.48      0.48      1788\n",
      "weighted avg       0.62      0.63      0.62      1788\n",
      "\n",
      "\n",
      "Tfidf_SVM Classification Report:\n",
      "              precision    recall  f1-score   support\n",
      "\n",
      "          -1       0.62      0.28      0.39       114\n",
      "           0       0.71      0.85      0.77      1078\n",
      "           1       0.66      0.49      0.56       596\n",
      "\n",
      "    accuracy                           0.69      1788\n",
      "   macro avg       0.66      0.54      0.57      1788\n",
      "weighted avg       0.69      0.69      0.68      1788\n",
      "\n"
     ]
    }
   ],
   "source": [
    "# Define the models\n",
    "models = {\n",
    "    \"Logistic Regression\": LogisticRegression(max_iter=1000),\n",
    "    \"Random Forest\": RandomForestClassifier(),\n",
    "    \"SVM\": SVC()\n",
    "}\n",
    "\n",
    "# Initialize vectorizers and SMOTE\n",
    "count_vectorizer = CountVectorizer(stop_words='english', max_features=5000)\n",
    "tfidf_vectorizer = TfidfVectorizer(stop_words='english', max_features=5000)\n",
    "smote = SMOTE(random_state=42)\n",
    "\n",
    "# Create pipelines\n",
    "count_pipeline = ImbPipeline([\n",
    "    ('vectorizer', count_vectorizer),\n",
    "    ('smote', smote),\n",
    "    ('classifier', LogisticRegression(max_iter=1000))  # Placeholder classifier\n",
    "])\n",
    "\n",
    "tfidf_pipeline = ImbPipeline([\n",
    "    ('vectorizer', tfidf_vectorizer),\n",
    "    ('smote', smote),\n",
    "    ('classifier', LogisticRegression(max_iter=1000))  # Placeholder classifier\n",
    "])\n",
    "\n",
    "# Define X and Y\n",
    "X = tweets_cleaned['clean_tweet']  # Ensure this is the column with cleaned text data\n",
    "Y = tweets['emotion_encoded']      # Target column\n",
    "\n",
    "# Train-test split\n",
    "X_train, X_test, y_train, y_test = train_test_split(X, Y, test_size=0.2, random_state=42, stratify=Y)\n",
    "\n",
    "# Dictionary to store results\n",
    "results = {}\n",
    "\n",
    "# Evaluate each model with both vectorizers\n",
    "for model_name, model in models.items():\n",
    "    print(f\"Evaluating {model_name}...\")\n",
    "\n",
    "    # Update the classifier in the pipelines\n",
    "    count_pipeline.set_params(classifier=model)\n",
    "    tfidf_pipeline.set_params(classifier=model)\n",
    "\n",
    "    # Train and evaluate the model with CountVectorizer\n",
    "    print(f\"\\nUsing CountVectorizer with {model_name}:\")\n",
    "    count_pipeline.fit(X_train, y_train)\n",
    "    y_pred_count = count_pipeline.predict(X_test)\n",
    "    results[f'Count_{model_name}'] = classification_report(y_test, y_pred_count)\n",
    "    print(results[f'Count_{model_name}'])\n",
    "\n",
    "    # Train and evaluate the model with TfidfVectorizer\n",
    "    print(f\"\\nUsing TfidfVectorizer with {model_name}:\")\n",
    "    tfidf_pipeline.fit(X_train, y_train)\n",
    "    y_pred_tfidf = tfidf_pipeline.predict(X_test)\n",
    "    results[f'Tfidf_{model_name}'] = classification_report(y_test, y_pred_tfidf)\n",
    "    print(results[f'Tfidf_{model_name}'])\n",
    "\n",
    "# Results for each model and vectorizer combination\n",
    "for key, report in results.items():\n",
    "    print(f\"\\n{key} Classification Report:\\n{report}\")"
   ]
  },
  {
   "cell_type": "code",
   "execution_count": 315,
   "metadata": {},
   "outputs": [
    {
     "name": "stdout",
     "output_type": "stream",
     "text": [
      "Fitting 3 folds for each of 18 candidates, totalling 54 fits\n",
      "Best Parameters for Logistic Regression:  {'logisticregression__C': 10, 'logisticregression__class_weight': 'balanced', 'logisticregression__max_iter': 300, 'logisticregression__penalty': 'l2', 'logisticregression__solver': 'lbfgs'}\n",
      "Logistic Regression Accuracy:  0.6588366890380313\n"
     ]
    },
    {
     "name": "stderr",
     "output_type": "stream",
     "text": [
      "/Applications/anaconda3/envs/learn-env/lib/python3.8/site-packages/sklearn/linear_model/_logistic.py:763: ConvergenceWarning: lbfgs failed to converge (status=1):\n",
      "STOP: TOTAL NO. of ITERATIONS REACHED LIMIT.\n",
      "\n",
      "Increase the number of iterations (max_iter) or scale the data as shown in:\n",
      "    https://scikit-learn.org/stable/modules/preprocessing.html\n",
      "Please also refer to the documentation for alternative solver options:\n",
      "    https://scikit-learn.org/stable/modules/linear_model.html#logistic-regression\n",
      "  n_iter_i = _check_optimize_result(\n"
     ]
    }
   ],
   "source": [
    "# Logistic Regression Hyperparameters\n",
    "log_reg_params = {\n",
    "    'logisticregression__C': [0.1, 1, 10],\n",
    "    'logisticregression__penalty': ['l2'],\n",
    "    'logisticregression__solver': ['lbfgs', 'liblinear'],\n",
    "    'logisticregression__max_iter': [200, 300, 500],\n",
    "    'logisticregression__class_weight': ['balanced']\n",
    "\n",
    "}\n",
    "\n",
    "# Logistic Regression Pipeline\n",
    "from imblearn.pipeline import Pipeline as im_pipeline\n",
    "log_reg_pipeline = im_pipeline([\n",
    "    ('vectorizer', TfidfVectorizer(stop_words='english', max_features=5000)),\n",
    "    ('smote', SMOTE(random_state=42)),\n",
    "    ('logisticregression', LogisticRegression())\n",
    "])\n",
    "\n",
    "log_reg_grid_search = GridSearchCV(log_reg_pipeline, log_reg_params, cv=3, n_jobs=-1, verbose=1)\n",
    "log_reg_grid_search.fit(X_train, y_train)\n",
    "\n",
    "# Best Hyperparameters for Logistic Regression\n",
    "print(\"Best Parameters for Logistic Regression: \", log_reg_grid_search.best_params_)\n",
    "\n",
    "# Best Model Evaluation\n",
    "log_reg_best_model = log_reg_grid_search.best_estimator_\n",
    "print(\"Logistic Regression Accuracy: \", log_reg_best_model.score(X_test, y_test))\n"
   ]
  },
  {
   "cell_type": "code",
   "execution_count": 316,
   "metadata": {},
   "outputs": [
    {
     "name": "stdout",
     "output_type": "stream",
     "text": [
      "Fitting 3 folds for each of 36 candidates, totalling 108 fits\n",
      "Best Parameters for Random Forest:  {'randomforestclassifier__max_depth': None, 'randomforestclassifier__min_samples_leaf': 1, 'randomforestclassifier__min_samples_split': 2, 'randomforestclassifier__n_estimators': 100}\n",
      "Random Forest Accuracy:  0.6812080536912751\n"
     ]
    }
   ],
   "source": [
    "# Random Forest Hyperparameters\n",
    "rf_params = {\n",
    "    'randomforestclassifier__n_estimators': [50, 100, 200],\n",
    "    'randomforestclassifier__max_depth': [10, 20, None],\n",
    "    'randomforestclassifier__min_samples_split': [2, 5],\n",
    "    'randomforestclassifier__min_samples_leaf': [1, 2]\n",
    "}\n",
    "\n",
    "# Random Forest Pipeline\n",
    "rf_pipeline = im_pipeline([\n",
    "    ('vectorizer', TfidfVectorizer(stop_words='english', max_features=5000)),\n",
    "    ('smote', SMOTE(random_state=42)),\n",
    "    ('randomforestclassifier', RandomForestClassifier(random_state=42))\n",
    "])\n",
    "\n",
    "rf_grid_search = GridSearchCV(rf_pipeline, rf_params, cv=3, n_jobs=-1, verbose=1)\n",
    "rf_grid_search.fit(X_train, y_train)\n",
    "\n",
    "# Best Hyperparameters for Random Forest\n",
    "print(\"Best Parameters for Random Forest: \", rf_grid_search.best_params_)\n",
    "\n",
    "# Best Model Evaluation\n",
    "rf_best_model = rf_grid_search.best_estimator_\n",
    "print(\"Random Forest Accuracy: \", rf_best_model.score(X_test, y_test))\n"
   ]
  },
  {
   "cell_type": "code",
   "execution_count": 317,
   "metadata": {},
   "outputs": [
    {
     "name": "stdout",
     "output_type": "stream",
     "text": [
      "Fitting 3 folds for each of 12 candidates, totalling 36 fits\n",
      "Best Parameters for SVM:  {'svc__C': 1, 'svc__class_weight': 'balanced', 'svc__gamma': 'scale', 'svc__kernel': 'rbf'}\n",
      "SVM Accuracy:  0.6929530201342282\n"
     ]
    }
   ],
   "source": [
    "# SVM Hyperparameters\n",
    "svm_params = {\n",
    "    'svc__C': [0.1, 1, 10],\n",
    "    'svc__kernel': ['linear', 'rbf'],\n",
    "    'svc__gamma': ['scale', 'auto'],\n",
    "\n",
    "    'svc__class_weight': ['balanced']\n",
    "}\n",
    "\n",
    "# SVM Pipeline\n",
    "svm_pipeline = im_pipeline([\n",
    "    ('vectorizer', TfidfVectorizer(stop_words='english', max_features=5000)),\n",
    "    ('smote', SMOTE(random_state=42)),\n",
    "    ('svc', SVC(random_state=42))\n",
    "])\n",
    "\n",
    "svm_grid_search = GridSearchCV(svm_pipeline, svm_params, cv=3, n_jobs=-1, verbose=1)\n",
    "svm_grid_search.fit(X_train, y_train)\n",
    "\n",
    "# Best Hyperparameters for SVM\n",
    "print(\"Best Parameters for SVM: \", svm_grid_search.best_params_)\n",
    "\n",
    "# Best Model Evaluation\n",
    "svm_best_model = svm_grid_search.best_estimator_\n",
    "print(\"SVM Accuracy: \", svm_best_model.score(X_test, y_test))\n"
   ]
  },
  {
   "cell_type": "markdown",
   "metadata": {},
   "source": [
    "After evaluating multiple models, the results were as follows:\n",
    "\n",
    "**SVM (Support Vector Machine):**\n",
    "\n",
    "+ Best Parameters: C=1, class_weight='balanced', gamma='scale', kernel='rbf'.\n",
    "+ Accuracy: 69.3%.\n",
    "+ CountVectorizer: Achieved accuracy of 63%, with decent performance in classifying '0' and '1' but poor performance for the 'negative emotion' class (-1).\n",
    "+ TfidfVectorizer: Slightly improved to 69%, still showing strength for classifying neutral (0) and positive (1) emotions, but weaker for the negative emotion class.\n",
    "\n",
    "**Random Forest:**\n",
    "\n",
    "+ Best Parameters: n_estimators=100, max_depth=None, min_samples_split=2, min_samples_leaf=1.\n",
    "+ Accuracy: 68.1%.\n",
    "+ CountVectorizer: Had a relatively balanced performance but still showed struggles in identifying negative emotions.\n",
    "+ TfidfVectorizer: Improved performance to 69%, with better recall for the neutral class but still not hitting above 70% for overall accuracy.\n",
    "\n",
    "**Logistic Regression:**\n",
    "\n",
    "+ Best Parameters: C=10, class_weight='balanced', max_iter=300, penalty='l2', solver='lbfgs'.\n",
    "+ Accuracy: 65.9%.\n",
    "+ CountVectorizer: Accuracy of 62%, with precision and recall still falling short for 'negative emotion'.\n",
    "+ TfidfVectorizer: Boosted accuracy to 65%, with a better balance in precision and recall for the neutral and positive classes."
   ]
  },
  {
   "cell_type": "markdown",
   "metadata": {},
   "source": []
  }
 ],
 "metadata": {
  "kernelspec": {
   "display_name": "learn-env",
   "language": "python",
   "name": "python3"
  },
  "language_info": {
   "codemirror_mode": {
    "name": "ipython",
    "version": 3
   },
   "file_extension": ".py",
   "mimetype": "text/x-python",
   "name": "python",
   "nbconvert_exporter": "python",
   "pygments_lexer": "ipython3",
   "version": "3.8.5"
  }
 },
 "nbformat": 4,
 "nbformat_minor": 2
}
